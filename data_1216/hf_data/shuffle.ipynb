{
 "cells": [
  {
   "cell_type": "code",
   "execution_count": 1,
   "metadata": {},
   "outputs": [],
   "source": [
    "import random\n",
    "import json\n",
    "random.seed(42)\n",
    "\n",
    "# shuffle /ML-A100/home/xiangyue/lyf/AttributionBench/data/hf_data/stanford_verifiability_judgement_train.jsonl and save it into the same file\n",
    "def shuffle_jsonl_file(file_path):\n",
    "    with open(file_path, 'r') as f:\n",
    "        data = f.readlines()\n",
    "    random.shuffle(data)\n",
    "    with open(file_path, 'w') as f:\n",
    "        f.writelines(data)\n",
    "\n",
    "shuffle_jsonl_file('/ML-A100/home/xiangyue/lyf/AttributionBench/data/hf_data/stanford_verifiability_judgement_train.jsonl')\n",
    "shuffle_jsonl_file('/ML-A100/home/xiangyue/lyf/AttributionBench/data/hf_data/stanford_verifiability_judgement_dev.jsonl')\n",
    "shuffle_jsonl_file('/ML-A100/home/xiangyue/lyf/AttributionBench/data/hf_data/stanford_verifiability_judgement_test.jsonl')\n",
    "shuffle_jsonl_file('/ML-A100/home/xiangyue/lyf/AttributionBench/data/hf_data/rand_train_web_parsed_claim.jsonl')\n",
    "shuffle_jsonl_file('/ML-A100/home/xiangyue/lyf/AttributionBench/data/hf_data/rand_dev_web_parsed_claim.jsonl')\n",
    "shuffle_jsonl_file('/ML-A100/home/xiangyue/lyf/AttributionBench/data/hf_data/rand_test_web_parsed_claim.jsonl')\n"
   ]
  }
 ],
 "metadata": {
  "kernelspec": {
   "display_name": "base",
   "language": "python",
   "name": "python3"
  },
  "language_info": {
   "codemirror_mode": {
    "name": "ipython",
    "version": 3
   },
   "file_extension": ".py",
   "mimetype": "text/x-python",
   "name": "python",
   "nbconvert_exporter": "python",
   "pygments_lexer": "ipython3",
   "version": "3.10.9"
  }
 },
 "nbformat": 4,
 "nbformat_minor": 2
}
