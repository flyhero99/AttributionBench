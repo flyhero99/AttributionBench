{
 "cells": [
  {
   "cell_type": "code",
   "execution_count": 9,
   "metadata": {},
   "outputs": [],
   "source": [
    "from dataset_loader import DatasetLoader\n",
    "import json\n",
    "import pandas as pd\n",
    "import os\n",
    "import json\n",
    "import utils\n",
    "from tqdm import tqdm\n",
    "import random\n",
    "random.seed(42)"
   ]
  },
  {
   "cell_type": "code",
   "execution_count": 10,
   "metadata": {},
   "outputs": [
    {
     "name": "stdout",
     "output_type": "stream",
     "text": [
      "Loading data from AttributedQA.\n"
     ]
    },
    {
     "name": "stdout",
     "output_type": "stream",
     "text": [
      "Dataset Name: AttributedQA, total items: 18024, total unique <question, claim, references> pairs: 8253\n",
      "Loading data from HAGRID.\n",
      "Dataset Name: HAGRID, total items: 2980, total unique <question, claim, references> pairs: 2977\n",
      "Loading data from ExpertQA.\n",
      "Dataset Name: ExpertQA, total items: 10655, total unique <question, claim, references> pairs: 8827\n",
      "Loading data from Stanford-Gensearch.\n"
     ]
    },
    {
     "name": "stderr",
     "output_type": "stream",
     "text": [
      "100%|██████████| 4704/4704 [00:00<00:00, 78804.34it/s]"
     ]
    },
    {
     "name": "stdout",
     "output_type": "stream",
     "text": [
      "Dataset Name: Stanford-Gensearch, total items: 8096, total unique <question, claim, references> pairs: 8001\n"
     ]
    },
    {
     "name": "stderr",
     "output_type": "stream",
     "text": [
      "\n"
     ]
    }
   ],
   "source": [
    "attributedqa_train = DatasetLoader().load_dataset(\"AttributedQA\", split=\"train\")\n",
    "hagrid_train = DatasetLoader().load_dataset(\"HAGRID\", split=\"train\")\n",
    "expertqa_train = DatasetLoader().load_dataset(\"ExpertQA\", split=\"train\")\n",
    "stanford_train = DatasetLoader().load_dataset(\"Stanford-Gensearch\", split=\"train\")\n",
    "merged_train = attributedqa_train + hagrid_train + expertqa_train + stanford_train"
   ]
  },
  {
   "cell_type": "code",
   "execution_count": 11,
   "metadata": {},
   "outputs": [
    {
     "name": "stdout",
     "output_type": "stream",
     "text": [
      "Loading data from AttributedQA.\n",
      "Dataset Name: AttributedQA, total items: 1070, total unique <question, claim, references> pairs: 352\n",
      "Loading data from HAGRID.\n"
     ]
    },
    {
     "name": "stdout",
     "output_type": "stream",
     "text": [
      "Dataset Name: HAGRID, total items: 163, total unique <question, claim, references> pairs: 163\n",
      "Loading data from ExpertQA.\n",
      "Dataset Name: ExpertQA, total items: 613, total unique <question, claim, references> pairs: 521\n",
      "Loading data from Stanford-Gensearch.\n"
     ]
    },
    {
     "name": "stderr",
     "output_type": "stream",
     "text": [
      "100%|██████████| 272/272 [00:00<00:00, 83007.18it/s]"
     ]
    },
    {
     "name": "stdout",
     "output_type": "stream",
     "text": [
      "Dataset Name: Stanford-Gensearch, total items: 443, total unique <question, claim, references> pairs: 438\n"
     ]
    },
    {
     "name": "stderr",
     "output_type": "stream",
     "text": [
      "\n"
     ]
    }
   ],
   "source": [
    "attributedqa_dev = DatasetLoader().load_dataset(\"AttributedQA\", split=\"dev\")\n",
    "hagrid_dev = DatasetLoader().load_dataset(\"HAGRID\", split=\"dev\")\n",
    "expertqa_dev = DatasetLoader().load_dataset(\"ExpertQA\", split=\"dev\")\n",
    "stanford_dev = DatasetLoader().load_dataset(\"Stanford-Gensearch\", split=\"dev\")\n",
    "merged_dev = attributedqa_dev + hagrid_dev + expertqa_dev + stanford_dev"
   ]
  },
  {
   "cell_type": "code",
   "execution_count": 12,
   "metadata": {},
   "outputs": [
    {
     "name": "stdout",
     "output_type": "stream",
     "text": [
      "Loading data from AttributedQA.\n",
      "Dataset Name: AttributedQA, total items: 2095, total unique <question, claim, references> pairs: 827\n",
      "Loading data from HAGRID.\n",
      "Dataset Name: HAGRID, total items: 365, total unique <question, claim, references> pairs: 363\n",
      "Loading data from ExpertQA.\n",
      "Dataset Name: ExpertQA, total items: 1190, total unique <question, claim, references> pairs: 1031\n",
      "Loading data from Stanford-Gensearch.\n"
     ]
    },
    {
     "name": "stderr",
     "output_type": "stream",
     "text": [
      "100%|██████████| 552/552 [00:00<00:00, 79990.87it/s]"
     ]
    },
    {
     "name": "stdout",
     "output_type": "stream",
     "text": [
      "Dataset Name: Stanford-Gensearch, total items: 917, total unique <question, claim, references> pairs: 911\n",
      "Loading data from AttrScore-GenSearch.\n",
      "Dataset Name: AttrScore-GenSearch, total items: 242, total unique <question, claim, references> pairs: 240\n"
     ]
    },
    {
     "name": "stderr",
     "output_type": "stream",
     "text": [
      "\n"
     ]
    }
   ],
   "source": [
    "attributedqa_test = DatasetLoader().load_dataset(\"AttributedQA\", split=\"test\")\n",
    "hagrid_test = DatasetLoader().load_dataset(\"HAGRID\", split=\"test\")\n",
    "expertqa_test = DatasetLoader().load_dataset(\"ExpertQA\", split=\"test\")\n",
    "stanford_test = DatasetLoader().load_dataset(\"Stanford-Gensearch\", split=\"test\")\n",
    "merged_test = attributedqa_test + hagrid_test + expertqa_test + stanford_test\n",
    "attrscore = DatasetLoader().load_dataset(\"AttrScore-GenSearch\", split=\"test\")"
   ]
  },
  {
   "cell_type": "code",
   "execution_count": 13,
   "metadata": {},
   "outputs": [
    {
     "name": "stdout",
     "output_type": "stream",
     "text": [
      "2977 163 363\n",
      "8253 352 827\n",
      "8827 521 1031\n",
      "8001 438 911\n",
      "28058 1474 3132\n"
     ]
    }
   ],
   "source": [
    "print(len(hagrid_train), len(hagrid_dev), len(hagrid_test))\n",
    "print(len(attributedqa_train), len(attributedqa_dev), len(attributedqa_test))\n",
    "print(len(expertqa_train), len(expertqa_dev), len(expertqa_test))\n",
    "print(len(stanford_train), len(stanford_dev), len(stanford_test))\n",
    "print(len(merged_train), len(merged_dev), len(merged_test))"
   ]
  },
  {
   "cell_type": "code",
   "execution_count": 14,
   "metadata": {},
   "outputs": [
    {
     "name": "stdout",
     "output_type": "stream",
     "text": [
      "7671\n",
      "769\n",
      "999\n"
     ]
    }
   ],
   "source": [
    "import json\n",
    "\n",
    "print(len([json.loads(line) for line in open(\"/ML-A100/home/xiangyue/lyf/ExpertQA/data/lfqa/rand_train_web_parsed_claim.jsonl\")]))\n",
    "print(len([json.loads(line) for line in open(\"/ML-A100/home/xiangyue/lyf/ExpertQA/data/lfqa/rand_dev_web_parsed_claim.jsonl\")]))\n",
    "print(len([json.loads(line) for line in open(\"/ML-A100/home/xiangyue/lyf/ExpertQA/data/lfqa/rand_test_web_parsed_claim.jsonl\")]))"
   ]
  },
  {
   "cell_type": "code",
   "execution_count": 5,
   "metadata": {},
   "outputs": [
    {
     "name": "stderr",
     "output_type": "stream",
     "text": [
      "100%|██████████| 28058/28058 [00:00<00:00, 86114.22it/s]\n",
      "100%|██████████| 1474/1474 [00:00<00:00, 100197.79it/s]\n",
      "100%|██████████| 3132/3132 [00:00<00:00, 98102.85it/s]\n",
      "100%|██████████| 240/240 [00:00<00:00, 111649.62it/s]\n"
     ]
    }
   ],
   "source": [
    "with open(\"../hf_data/merged_train.jsonl\", \"w\") as f:\n",
    "    for item in tqdm(merged_train):\n",
    "        f.write(json.dumps(item) + \"\\n\")\n",
    "with open(\"../hf_data/merged_dev.jsonl\", \"w\") as f:\n",
    "    for item in tqdm(merged_dev):\n",
    "        f.write(json.dumps(item) + \"\\n\")\n",
    "with open(\"../hf_data/merged_test.jsonl\", \"w\") as f:\n",
    "    for item in tqdm(merged_test):\n",
    "        f.write(json.dumps(item) + \"\\n\")\n",
    "with open(\"../hf_data/test_ood.jsonl\", \"w\") as f:\n",
    "    for item in tqdm(attrscore):\n",
    "        f.write(json.dumps(item) + \"\\n\")"
   ]
  }
 ],
 "metadata": {
  "kernelspec": {
   "display_name": "base",
   "language": "python",
   "name": "python3"
  },
  "language_info": {
   "codemirror_mode": {
    "name": "ipython",
    "version": 3
   },
   "file_extension": ".py",
   "mimetype": "text/x-python",
   "name": "python",
   "nbconvert_exporter": "python",
   "pygments_lexer": "ipython3",
   "version": "3.10.9"
  },
  "orig_nbformat": 4
 },
 "nbformat": 4,
 "nbformat_minor": 2
}
