{
 "cells": [
  {
   "cell_type": "code",
   "execution_count": 1,
   "metadata": {},
   "outputs": [],
   "source": [
    "from dataset_loader import DatasetLoader\n",
    "import json\n",
    "import pandas as pd\n",
    "import os\n",
    "import json\n",
    "import utils\n",
    "from tqdm import tqdm\n",
    "import random\n",
    "random.seed(42)"
   ]
  },
  {
   "cell_type": "code",
   "execution_count": 2,
   "metadata": {},
   "outputs": [
    {
     "name": "stdout",
     "output_type": "stream",
     "text": [
      "Loading data from AttributedQA.\n",
      "Dataset Name: AttributedQA, total items: 18024, total unique <question, claim, references> pairs: 8253\n",
      "Loading data from HAGRID.\n",
      "Dataset Name: HAGRID, total items: 2980, total unique <question, claim, references> pairs: 2977\n",
      "Loading data from ExpertQA.\n",
      "Dataset Name: ExpertQA, total items: 10655, total unique <question, claim, references> pairs: 8827\n",
      "Loading data from Stanford-Gensearch.\n"
     ]
    },
    {
     "name": "stderr",
     "output_type": "stream",
     "text": [
      "100%|██████████| 4704/4704 [00:00<00:00, 73013.25it/s]"
     ]
    },
    {
     "name": "stdout",
     "output_type": "stream",
     "text": [
      "Dataset Name: Stanford-Gensearch, total items: 9423, total unique <question, claim, references> pairs: 9317\n"
     ]
    },
    {
     "name": "stderr",
     "output_type": "stream",
     "text": [
      "\n"
     ]
    }
   ],
   "source": [
    "attributedqa_train = DatasetLoader().load_dataset(\"AttributedQA\", split=\"train\")\n",
    "hagrid_train = DatasetLoader().load_dataset(\"HAGRID\", split=\"train\")\n",
    "expertqa_train = DatasetLoader().load_dataset(\"ExpertQA\", split=\"train\")\n",
    "stanford_train = DatasetLoader().load_dataset(\"Stanford-Gensearch\", split=\"train\")\n",
    "merged_train = attributedqa_train + hagrid_train + expertqa_train + stanford_train"
   ]
  },
  {
   "cell_type": "code",
   "execution_count": 3,
   "metadata": {},
   "outputs": [
    {
     "name": "stdout",
     "output_type": "stream",
     "text": [
      "Loading data from AttributedQA.\n",
      "Dataset Name: AttributedQA, total items: 1070, total unique <question, claim, references> pairs: 352\n",
      "Loading data from HAGRID.\n",
      "Dataset Name: HAGRID, total items: 163, total unique <question, claim, references> pairs: 163\n",
      "Loading data from ExpertQA.\n",
      "Dataset Name: ExpertQA, total items: 613, total unique <question, claim, references> pairs: 521\n",
      "Loading data from Stanford-Gensearch.\n"
     ]
    },
    {
     "name": "stderr",
     "output_type": "stream",
     "text": [
      "100%|██████████| 272/272 [00:00<00:00, 58310.79it/s]"
     ]
    },
    {
     "name": "stdout",
     "output_type": "stream",
     "text": [
      "Dataset Name: Stanford-Gensearch, total items: 515, total unique <question, claim, references> pairs: 510\n"
     ]
    },
    {
     "name": "stderr",
     "output_type": "stream",
     "text": [
      "\n"
     ]
    }
   ],
   "source": [
    "attributedqa_dev = DatasetLoader().load_dataset(\"AttributedQA\", split=\"dev\")\n",
    "hagrid_dev = DatasetLoader().load_dataset(\"HAGRID\", split=\"dev\")\n",
    "expertqa_dev = DatasetLoader().load_dataset(\"ExpertQA\", split=\"dev\")\n",
    "stanford_dev = DatasetLoader().load_dataset(\"Stanford-Gensearch\", split=\"dev\")\n",
    "merged_dev = attributedqa_dev + hagrid_dev + expertqa_dev + stanford_dev"
   ]
  },
  {
   "cell_type": "code",
   "execution_count": 4,
   "metadata": {},
   "outputs": [
    {
     "name": "stdout",
     "output_type": "stream",
     "text": [
      "Loading data from AttributedQA.\n",
      "Dataset Name: AttributedQA, total items: 2095, total unique <question, claim, references> pairs: 827\n",
      "Loading data from HAGRID.\n",
      "Dataset Name: HAGRID, total items: 365, total unique <question, claim, references> pairs: 363\n",
      "Loading data from ExpertQA.\n",
      "Dataset Name: ExpertQA, total items: 1190, total unique <question, claim, references> pairs: 1031\n",
      "Loading data from Stanford-Gensearch.\n"
     ]
    },
    {
     "name": "stderr",
     "output_type": "stream",
     "text": [
      "100%|██████████| 552/552 [00:00<00:00, 63681.16it/s]"
     ]
    },
    {
     "name": "stdout",
     "output_type": "stream",
     "text": [
      "Dataset Name: Stanford-Gensearch, total items: 1072, total unique <question, claim, references> pairs: 1065\n",
      "Loading data from AttrScore-GenSearch.\n",
      "Dataset Name: AttrScore-GenSearch, total items: 242, total unique <question, claim, references> pairs: 240\n"
     ]
    },
    {
     "name": "stderr",
     "output_type": "stream",
     "text": [
      "\n"
     ]
    }
   ],
   "source": [
    "attributedqa_test = DatasetLoader().load_dataset(\"AttributedQA\", split=\"test\")\n",
    "hagrid_test = DatasetLoader().load_dataset(\"HAGRID\", split=\"test\")\n",
    "expertqa_test = DatasetLoader().load_dataset(\"ExpertQA\", split=\"test\")\n",
    "stanford_test = DatasetLoader().load_dataset(\"Stanford-Gensearch\", split=\"test\")\n",
    "merged_test = attributedqa_test + hagrid_test + expertqa_test + stanford_test\n",
    "attrscore = DatasetLoader().load_dataset(\"AttrScore-GenSearch\", split=\"test\")"
   ]
  },
  {
   "cell_type": "code",
   "execution_count": 5,
   "metadata": {},
   "outputs": [
    {
     "name": "stderr",
     "output_type": "stream",
     "text": [
      "100%|██████████| 29374/29374 [00:00<00:00, 108121.41it/s]\n",
      "100%|██████████| 1546/1546 [00:00<00:00, 105379.04it/s]\n",
      "100%|██████████| 3286/3286 [00:00<00:00, 100179.41it/s]\n",
      "100%|██████████| 240/240 [00:00<00:00, 129022.43it/s]\n"
     ]
    }
   ],
   "source": [
    "with open(\"../hf_data/merged_train.jsonl\", \"w\") as f:\n",
    "    for item in tqdm(merged_train):\n",
    "        f.write(json.dumps(item) + \"\\n\")\n",
    "with open(\"../hf_data/merged_dev.jsonl\", \"w\") as f:\n",
    "    for item in tqdm(merged_dev):\n",
    "        f.write(json.dumps(item) + \"\\n\")\n",
    "with open(\"../hf_data/merged_test.jsonl\", \"w\") as f:\n",
    "    for item in tqdm(merged_test):\n",
    "        f.write(json.dumps(item) + \"\\n\")\n",
    "with open(\"../hf_data/test_ood.jsonl\", \"w\") as f:\n",
    "    for item in tqdm(attrscore):\n",
    "        f.write(json.dumps(item) + \"\\n\")"
   ]
  }
 ],
 "metadata": {
  "kernelspec": {
   "display_name": "base",
   "language": "python",
   "name": "python3"
  },
  "language_info": {
   "codemirror_mode": {
    "name": "ipython",
    "version": 3
   },
   "file_extension": ".py",
   "mimetype": "text/x-python",
   "name": "python",
   "nbconvert_exporter": "python",
   "pygments_lexer": "ipython3",
   "version": "3.10.9"
  },
  "orig_nbformat": 4
 },
 "nbformat": 4,
 "nbformat_minor": 2
}
