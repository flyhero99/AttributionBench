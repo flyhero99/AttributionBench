{
 "cells": [
  {
   "cell_type": "code",
   "execution_count": 1,
   "metadata": {},
   "outputs": [],
   "source": [
    "from dataset_loader import DatasetLoader\n",
    "import json\n",
    "import pandas as pd\n",
    "import os\n",
    "import json\n",
    "import utils\n",
    "from tqdm import tqdm\n",
    "import random\n",
    "random.seed(42)"
   ]
  },
  {
   "cell_type": "code",
   "execution_count": 2,
   "metadata": {},
   "outputs": [],
   "source": [
    "merged_train = [json.loads(l) for l in open(\"../hf_data/merged_train.jsonl\")]\n",
    "merged_dev = [json.loads(l) for l in open(\"../hf_data/merged_dev.jsonl\")]\n",
    "merged_test = [json.loads(l) for l in open(\"../hf_data/merged_test.jsonl\")]"
   ]
  },
  {
   "cell_type": "code",
   "execution_count": 5,
   "metadata": {},
   "outputs": [
    {
     "data": {
      "text/plain": [
       "{'question': 'What can severe pain in the right side of the belly button indicate?',\n",
       " 'claim': 'Other possible symptoms include fever, vomiting, and loss of appetite[4].',\n",
       " 'claim_raw_string': 'Other possible symptoms include fever, vomiting, and loss of appetite[4].',\n",
       " 'response': 'Severe pain in the right side of the belly button could potentially indicate appendicitis. This condition is characterized by the inflammation of the appendix, a body part which scientists believe used to play an important role in the human digestive system but has no use in the human body now[4]. One of the early symptoms of appendicitis is a severe and sudden pain that starts near the belly button and may move toward the lower right side of the abdomen[3]. Other possible symptoms include fever, vomiting, and loss of appetite[4]. If suspected, appendicitis requires immediate medical care as it can be fatal[3]. Diagnosis of appendicitis usually involves doctors performing tests to rule out other potential causes of the belly button pain[4].',\n",
       " 'references': ['[4] https://www.wisegeek.com/what-are-the-most-common-causes-of-belly-button-pain.htm\\n\\nWhat Are the Most Common Causes of Belly Button Pain? inflammation of an internal body part called the appendix, and causes pain on the right side. Sometimes this pain starts out as belly button pain, but gradually moves to the side. Fever, vomiting, and loss of appetite are other symptoms of appendicitis. The appendix no longer has a use in the human body, but scientists speculate that it was once an important part of the digestive system. A routine surgery can remove the appendix once doctors perform tests to rule out other potential causes of the belly button pain. What Is the Relationship between Belly-Button Placement and Athletic Performance? What'],\n",
       " 'citation_links': ['https://www.wisegeek.com/what-are-the-most-common-causes-of-belly-button-pain.htm'],\n",
       " 'webpage_references': [],\n",
       " 'attribution_label': 'attributable',\n",
       " 'src_dataset': 'ExpertQA',\n",
       " 'id': 'ExpertQA_9ab471b0-5ff8-494d-b434-686fc0cba56f'}"
      ]
     },
     "execution_count": 5,
     "metadata": {},
     "output_type": "execute_result"
    }
   ],
   "source": [
    "merged_train[15000]"
   ]
  },
  {
   "cell_type": "code",
   "execution_count": 3,
   "metadata": {},
   "outputs": [
    {
     "name": "stdout",
     "output_type": "stream",
     "text": [
      "Total Count: 28058\n",
      "Attributable Count: 18639 (66.43%)\n",
      "Not Attributable Count: 9419 (33.57%)\n",
      "Attributable / Not Attributable Ratio: 1.98\n",
      "\n",
      "Total Count: 8253\n",
      "Attributable Count: 3053 (36.99%)\n",
      "Not Attributable Count: 5200 (63.01%)\n",
      "Attributable / Not Attributable Ratio: 0.59\n",
      "\n",
      "Total Count: 2977\n",
      "Attributable Count: 2248 (75.51%)\n",
      "Not Attributable Count: 729 (24.49%)\n",
      "Attributable / Not Attributable Ratio: 3.08\n",
      "\n",
      "Total Count: 8827\n",
      "Attributable Count: 6092 (69.02%)\n",
      "Not Attributable Count: 2735 (30.98%)\n",
      "Attributable / Not Attributable Ratio: 2.23\n",
      "\n",
      "Total Count: 8001\n",
      "Attributable Count: 7246 (90.56%)\n",
      "Not Attributable Count: 755 (9.44%)\n",
      "Attributable / Not Attributable Ratio: 9.60\n",
      "\n"
     ]
    }
   ],
   "source": [
    "def display_ratio(data_list, src_dataset=\"any\"):\n",
    "    attributable_count = sum(1 for item in data_list if item['attribution_label'] == 'attributable' and (src_dataset == \"any\" or item[\"src_dataset\"] == src_dataset))\n",
    "    not_attributable_count = sum(1 for item in data_list if item['attribution_label'] == 'not attributable' and (src_dataset == \"any\" or item[\"src_dataset\"] == src_dataset))\n",
    "    total_count = attributable_count + not_attributable_count\n",
    "    \n",
    "    attributable_ratio = attributable_count / total_count\n",
    "    not_attributable_ratio = not_attributable_count / total_count\n",
    "    ratio_ratio = attributable_ratio / not_attributable_ratio\n",
    "    \n",
    "    print(f\"Total Count: {total_count}\")\n",
    "    print(f\"Attributable Count: {attributable_count} ({attributable_ratio:.2%})\")\n",
    "    print(f\"Not Attributable Count: {not_attributable_count} ({not_attributable_ratio:.2%})\")\n",
    "    print(f\"Attributable / Not Attributable Ratio: {ratio_ratio:.2f}\")\n",
    "    print(\"\")\n",
    "\n",
    "display_ratio(merged_train)\n",
    "display_ratio(merged_train, src_dataset=\"AttributedQA\")\n",
    "display_ratio(merged_train, src_dataset=\"HAGRID\")\n",
    "display_ratio(merged_train, src_dataset=\"ExpertQA\")\n",
    "display_ratio(merged_train, src_dataset=\"Stanford-GenSearch\")"
   ]
  },
  {
   "cell_type": "code",
   "execution_count": 4,
   "metadata": {},
   "outputs": [],
   "source": [
    "attributedqa_train = [item for item in merged_train if item[\"src_dataset\"] == \"AttributedQA\"]\n",
    "attributedqa_dev = [item for item in merged_dev if item[\"src_dataset\"] == \"AttributedQA\"]\n",
    "attributedqa_test = [item for item in merged_test if item[\"src_dataset\"] == \"AttributedQA\"]\n",
    "hagrid_train = [item for item in merged_train if item[\"src_dataset\"] == \"HAGRID\"]\n",
    "hagrid_dev = [item for item in merged_dev if item[\"src_dataset\"] == \"HAGRID\"]\n",
    "hagrid_test = [item for item in merged_test if item[\"src_dataset\"] == \"HAGRID\"]\n",
    "expertqa_train = [item for item in merged_train if item[\"src_dataset\"] == \"ExpertQA\"]\n",
    "expertqa_dev = [item for item in merged_dev if item[\"src_dataset\"] == \"ExpertQA\"]\n",
    "expertqa_test = [item for item in merged_test if item[\"src_dataset\"] == \"ExpertQA\"]\n",
    "stanford_train = [item for item in merged_train if item[\"src_dataset\"] == \"Stanford-GenSearch\"]\n",
    "stanford_dev = [item for item in merged_dev if item[\"src_dataset\"] == \"Stanford-GenSearch\"]\n",
    "stanford_test = [item for item in merged_test if item[\"src_dataset\"] == \"Stanford-GenSearch\"]"
   ]
  },
  {
   "cell_type": "code",
   "execution_count": 5,
   "metadata": {},
   "outputs": [
    {
     "name": "stdout",
     "output_type": "stream",
     "text": [
      "After balancing:\n",
      "Total Count: 2000\n",
      "Attributable Count: 1000 (50.00%)\n",
      "Not Attributable Count: 1000 (50.00%)\n",
      "Attributable / Not Attributable Ratio: 1.00\n",
      "\n",
      "Total Count: 1458\n",
      "Attributable Count: 729 (50.00%)\n",
      "Not Attributable Count: 729 (50.00%)\n",
      "Attributable / Not Attributable Ratio: 1.00\n",
      "\n",
      "Total Count: 5470\n",
      "Attributable Count: 2735 (50.00%)\n",
      "Not Attributable Count: 2735 (50.00%)\n",
      "Attributable / Not Attributable Ratio: 1.00\n",
      "\n",
      "Total Count: 1510\n",
      "Attributable Count: 755 (50.00%)\n",
      "Not Attributable Count: 755 (50.00%)\n",
      "Attributable / Not Attributable Ratio: 1.00\n",
      "\n",
      "Total Count: 336\n",
      "Attributable Count: 168 (50.00%)\n",
      "Not Attributable Count: 168 (50.00%)\n",
      "Attributable / Not Attributable Ratio: 1.00\n",
      "\n",
      "Total Count: 64\n",
      "Attributable Count: 32 (50.00%)\n",
      "Not Attributable Count: 32 (50.00%)\n",
      "Attributable / Not Attributable Ratio: 1.00\n",
      "\n",
      "Total Count: 334\n",
      "Attributable Count: 167 (50.00%)\n",
      "Not Attributable Count: 167 (50.00%)\n",
      "Attributable / Not Attributable Ratio: 1.00\n",
      "\n",
      "Total Count: 68\n",
      "Attributable Count: 34 (50.00%)\n",
      "Not Attributable Count: 34 (50.00%)\n",
      "Attributable / Not Attributable Ratio: 1.00\n",
      "\n",
      "Total Count: 716\n",
      "Attributable Count: 358 (50.00%)\n",
      "Not Attributable Count: 358 (50.00%)\n",
      "Attributable / Not Attributable Ratio: 1.00\n",
      "\n",
      "Total Count: 174\n",
      "Attributable Count: 87 (50.00%)\n",
      "Not Attributable Count: 87 (50.00%)\n",
      "Attributable / Not Attributable Ratio: 1.00\n",
      "\n",
      "Total Count: 620\n",
      "Attributable Count: 310 (50.00%)\n",
      "Not Attributable Count: 310 (50.00%)\n",
      "Attributable / Not Attributable Ratio: 1.00\n",
      "\n",
      "Total Count: 148\n",
      "Attributable Count: 74 (50.00%)\n",
      "Not Attributable Count: 74 (50.00%)\n",
      "Attributable / Not Attributable Ratio: 1.00\n",
      "\n"
     ]
    }
   ],
   "source": [
    "import random\n",
    "\n",
    "def balance_data(data_list, src_dataset=\"any\"):\n",
    "    # 分离 \"attributable\" 和 \"not attributable\" 数据\n",
    "    attributable_data = [item for item in data_list if item['attribution_label'] == 'attributable']\n",
    "    not_attributable_data = [item for item in data_list if item['attribution_label'] == 'not attributable']\n",
    "    \n",
    "    # 计算两类数据的数量\n",
    "    min_count = min(len(attributable_data), len(not_attributable_data))\n",
    "    if src_dataset == \"AttributedQA\":\n",
    "        min_count = min(min_count, 1000)\n",
    "    \n",
    "    # 随机采样，使得两类数据的数量相等\n",
    "    balanced_data = random.sample(attributable_data, min_count) + random.sample(not_attributable_data, min_count)\n",
    "    \n",
    "    return balanced_data\n",
    "\n",
    "balanced_attributedqa_train = balance_data(attributedqa_train, src_dataset=\"AttributedQA\")\n",
    "balanced_hagrid_train = balance_data(hagrid_train)\n",
    "balanced_expertqa_train = balance_data(expertqa_train)\n",
    "balanced_stanford_train = balance_data(stanford_train)\n",
    "balanced_attributed_dev = balance_data(attributedqa_dev)\n",
    "balanced_hagrid_dev = balance_data(hagrid_dev)\n",
    "balanced_expertqa_dev = balance_data(expertqa_dev)\n",
    "balanced_stanford_dev = balance_data(stanford_dev)\n",
    "balanced_attributed_test = balance_data(attributedqa_test)\n",
    "balanced_hagrid_test = balance_data(hagrid_test)\n",
    "balanced_expertqa_test = balance_data(expertqa_test)\n",
    "balanced_stanford_test = balance_data(stanford_test)\n",
    "balanced_train = balanced_attributedqa_train + balanced_hagrid_train + balanced_expertqa_train + balanced_stanford_train\n",
    "balanced_dev = balanced_attributed_dev + balanced_hagrid_dev + balanced_expertqa_dev + balanced_stanford_dev\n",
    "balanced_test = balanced_attributed_test + balanced_hagrid_test + balanced_expertqa_test + balanced_stanford_test\n",
    "print(\"After balancing:\")\n",
    "display_ratio(balanced_attributedqa_train)\n",
    "display_ratio(balanced_hagrid_train)\n",
    "display_ratio(balanced_expertqa_train)\n",
    "display_ratio(balanced_stanford_train)\n",
    "display_ratio(balanced_attributed_dev)\n",
    "display_ratio(balanced_hagrid_dev)\n",
    "display_ratio(balanced_expertqa_dev)\n",
    "display_ratio(balanced_stanford_dev)\n",
    "display_ratio(balanced_attributed_test)\n",
    "display_ratio(balanced_hagrid_test)\n",
    "display_ratio(balanced_expertqa_test)\n",
    "display_ratio(balanced_stanford_test)"
   ]
  },
  {
   "cell_type": "code",
   "execution_count": 7,
   "metadata": {},
   "outputs": [],
   "source": [
    "with open(\"../hf_data/train_all_subset_balanced.jsonl\", \"w\") as f:\n",
    "    for item in balanced_train:\n",
    "        f.write(json.dumps(item) + \"\\n\")\n",
    "with open(\"../hf_data/dev_all_subset_balanced.jsonl\", \"w\") as f:\n",
    "    for item in balanced_dev:\n",
    "        f.write(json.dumps(item) + \"\\n\")\n",
    "with open(\"../hf_data/test_all_subset_balanced.jsonl\", \"w\") as f:\n",
    "    for item in balanced_test:\n",
    "        f.write(json.dumps(item) + \"\\n\")"
   ]
  },
  {
   "cell_type": "code",
   "execution_count": 8,
   "metadata": {},
   "outputs": [
    {
     "name": "stdout",
     "output_type": "stream",
     "text": [
      "10438\n",
      "802\n",
      "1658\n"
     ]
    }
   ],
   "source": [
    "print(len(balanced_train))\n",
    "print(len(balanced_dev))\n",
    "print(len(balanced_test))"
   ]
  },
  {
   "cell_type": "code",
   "execution_count": 17,
   "metadata": {},
   "outputs": [],
   "source": [
    "merged_train_sampled = random.sample(merged_train, k=10500)\n",
    "with open(\"../hf_data/merged_train_sampled.jsonl\", \"w\") as f:\n",
    "    for item in merged_train_sampled:\n",
    "        f.write(json.dumps(item) + \"\\n\")"
   ]
  },
  {
   "cell_type": "code",
   "execution_count": 6,
   "metadata": {},
   "outputs": [
    {
     "name": "stdout",
     "output_type": "stream",
     "text": [
      "2000\n",
      "1458\n",
      "5470\n",
      "1510\n"
     ]
    }
   ],
   "source": [
    "print(len([x for x in balanced_train if x[\"src_dataset\"] == \"AttributedQA\"]))\n",
    "print(len([x for x in balanced_train if x[\"src_dataset\"] == \"HAGRID\"]))\n",
    "print(len([x for x in balanced_train if x[\"src_dataset\"] == \"ExpertQA\"]))\n",
    "print(len([x for x in balanced_train if x[\"src_dataset\"] == \"Stanford-GenSearch\"]))"
   ]
  },
  {
   "cell_type": "code",
   "execution_count": 10,
   "metadata": {},
   "outputs": [
    {
     "name": "stdout",
     "output_type": "stream",
     "text": [
      "336\n",
      "64\n",
      "334\n",
      "68\n"
     ]
    }
   ],
   "source": [
    "print(len([x for x in balanced_dev if x[\"src_dataset\"] == \"AttributedQA\"]))\n",
    "print(len([x for x in balanced_dev if x[\"src_dataset\"] == \"HAGRID\"]))\n",
    "print(len([x for x in balanced_dev if x[\"src_dataset\"] == \"ExpertQA\"]))\n",
    "print(len([x for x in balanced_dev if x[\"src_dataset\"] == \"Stanford-GenSearch\"]))"
   ]
  },
  {
   "cell_type": "code",
   "execution_count": 7,
   "metadata": {},
   "outputs": [
    {
     "name": "stdout",
     "output_type": "stream",
     "text": [
      "716\n",
      "174\n",
      "620\n",
      "148\n"
     ]
    }
   ],
   "source": [
    "print(len([x for x in balanced_test if x[\"src_dataset\"] == \"AttributedQA\"]))\n",
    "print(len([x for x in balanced_test if x[\"src_dataset\"] == \"HAGRID\"]))\n",
    "print(len([x for x in balanced_test if x[\"src_dataset\"] == \"ExpertQA\"]))\n",
    "print(len([x for x in balanced_test if x[\"src_dataset\"] == \"Stanford-GenSearch\"]))"
   ]
  },
  {
   "cell_type": "code",
   "execution_count": 11,
   "metadata": {},
   "outputs": [],
   "source": [
    "import random\n",
    "\n",
    "def balance_data_overall(data_list):\n",
    "    # 分离 \"attributable\" 和 \"not attributable\" 数据\n",
    "    attributable_data = [item for item in data_list if item['attribution_label'] == 'attributable']\n",
    "    not_attributable_data = [item for item in data_list if item['attribution_label'] == 'not attributable']\n",
    "    \n",
    "    # 计算两类数据的数量\n",
    "    min_count = min(len(attributable_data), len(not_attributable_data)) - 4000\n",
    "    \n",
    "    # 随机采样，使得两类数据的数量相等\n",
    "    balanced_data = random.sample(attributable_data, min_count) + random.sample(not_attributable_data, min_count)\n",
    "    \n",
    "    return balanced_data\n",
    "\n",
    "balanced_train_overall = balance_data_overall(merged_train)"
   ]
  },
  {
   "cell_type": "code",
   "execution_count": 12,
   "metadata": {},
   "outputs": [
    {
     "name": "stdout",
     "output_type": "stream",
     "text": [
      "Total Count: 10838\n",
      "Attributable Count: 5419 (50.00%)\n",
      "Not Attributable Count: 5419 (50.00%)\n",
      "Attributable / Not Attributable Ratio: 1.00\n",
      "\n",
      "Total Count: 3833\n",
      "Attributable Count: 854 (22.28%)\n",
      "Not Attributable Count: 2979 (77.72%)\n",
      "Attributable / Not Attributable Ratio: 0.29\n",
      "\n",
      "Total Count: 1117\n",
      "Attributable Count: 684 (61.24%)\n",
      "Not Attributable Count: 433 (38.76%)\n",
      "Attributable / Not Attributable Ratio: 1.58\n",
      "\n",
      "Total Count: 3346\n",
      "Attributable Count: 1772 (52.96%)\n",
      "Not Attributable Count: 1574 (47.04%)\n",
      "Attributable / Not Attributable Ratio: 1.13\n",
      "\n",
      "Total Count: 2542\n",
      "Attributable Count: 2109 (82.97%)\n",
      "Not Attributable Count: 433 (17.03%)\n",
      "Attributable / Not Attributable Ratio: 4.87\n",
      "\n"
     ]
    }
   ],
   "source": [
    "display_ratio(balanced_train_overall)\n",
    "display_ratio(balanced_train_overall, src_dataset=\"AttributedQA\")\n",
    "display_ratio(balanced_train_overall, src_dataset=\"HAGRID\")\n",
    "display_ratio(balanced_train_overall, src_dataset=\"ExpertQA\")\n",
    "display_ratio(balanced_train_overall, src_dataset=\"Stanford-GenSearch\")"
   ]
  },
  {
   "cell_type": "code",
   "execution_count": 13,
   "metadata": {},
   "outputs": [],
   "source": [
    "with open(\"../hf_data/train_overall_balanced.jsonl\", \"w\") as f:\n",
    "    for item in balanced_train_overall:\n",
    "        f.write(json.dumps(item) + \"\\n\")"
   ]
  },
  {
   "cell_type": "code",
   "execution_count": 14,
   "metadata": {},
   "outputs": [
    {
     "name": "stdout",
     "output_type": "stream",
     "text": [
      "Total Count: 28058\n",
      "Attributable Count: 18639 (66.43%)\n",
      "Not Attributable Count: 9419 (33.57%)\n",
      "Attributable / Not Attributable Ratio: 1.98\n",
      "\n"
     ]
    }
   ],
   "source": [
    "display_ratio(merged_train)"
   ]
  },
  {
   "cell_type": "code",
   "execution_count": 15,
   "metadata": {},
   "outputs": [
    {
     "name": "stdout",
     "output_type": "stream",
     "text": [
      "{'AttributedQA': 0, 'HAGRID': 0, 'ExpertQA': 0, 'Stanford-GenSearch': 0}\n"
     ]
    }
   ],
   "source": [
    "cnt = {}\n",
    "cnt[\"AttributedQA\"] = 0\n",
    "cnt[\"HAGRID\"] = 0\n",
    "cnt[\"ExpertQA\"] = 0\n",
    "cnt[\"Stanford-GenSearch\"] = 0\n",
    "for data in merged_train:\n",
    "    if \"\" in data[\"references\"] or None in data[\"references\"]:\n",
    "        cnt[data[\"src_dataset\"]] += 1\n",
    "        print(data)\n",
    "print(cnt)"
   ]
  },
  {
   "cell_type": "code",
   "execution_count": 22,
   "metadata": {},
   "outputs": [
    {
     "name": "stdout",
     "output_type": "stream",
     "text": [
      "Total Count: 5470\n",
      "Attributable Count: 2735 (50.00%)\n",
      "Not Attributable Count: 2735 (50.00%)\n",
      "Attributable / Not Attributable Ratio: 1.00\n",
      "\n",
      "Total Count: 3346\n",
      "Attributable Count: 1772 (52.96%)\n",
      "Not Attributable Count: 1574 (47.04%)\n",
      "Attributable / Not Attributable Ratio: 1.13\n",
      "\n",
      "Total Count: 3333\n",
      "Attributable Count: 2326 (69.79%)\n",
      "Not Attributable Count: 1007 (30.21%)\n",
      "Attributable / Not Attributable Ratio: 2.31\n",
      "\n",
      "Total Count: 8827\n",
      "Attributable Count: 6092 (69.02%)\n",
      "Not Attributable Count: 2735 (30.98%)\n",
      "Attributable / Not Attributable Ratio: 2.23\n",
      "\n",
      "Total Count: 620\n",
      "Attributable Count: 310 (50.00%)\n",
      "Not Attributable Count: 310 (50.00%)\n",
      "Attributable / Not Attributable Ratio: 1.00\n",
      "\n"
     ]
    }
   ],
   "source": [
    "train_v20 = [json.loads(l) for l in open(\"../hf_data/train_all_subset_balanced.jsonl\")]\n",
    "train_v21 = [json.loads(l) for l in open(\"../hf_data/train_overall_balanced.jsonl\")]\n",
    "train_v22 = [json.loads(l) for l in open(\"../hf_data/merged_train_sampled.jsonl\")]\n",
    "train_v23 = [json.loads(l) for l in open(\"../hf_data/merged_train.jsonl\")]\n",
    "test = [json.loads(l) for l in open(\"../hf_data/test_all_subset_balanced.jsonl\")]\n",
    "display_ratio(train_v20, src_dataset=\"ExpertQA\")\n",
    "display_ratio(train_v21, src_dataset=\"ExpertQA\")\n",
    "display_ratio(train_v22, src_dataset=\"ExpertQA\")\n",
    "display_ratio(train_v23, src_dataset=\"ExpertQA\")\n",
    "display_ratio(test, src_dataset=\"ExpertQA\")"
   ]
  },
  {
   "cell_type": "markdown",
   "metadata": {},
   "source": [
    "## test data downsample"
   ]
  },
  {
   "cell_type": "code",
   "execution_count": 23,
   "metadata": {},
   "outputs": [
    {
     "name": "stdout",
     "output_type": "stream",
     "text": [
      "Total Count: 500\n",
      "Attributable Count: 250 (50.00%)\n",
      "Not Attributable Count: 250 (50.00%)\n",
      "Attributable / Not Attributable Ratio: 1.00\n",
      "\n",
      "Total Count: 216\n",
      "Attributable Count: 108 (50.00%)\n",
      "Not Attributable Count: 108 (50.00%)\n",
      "Attributable / Not Attributable Ratio: 1.00\n",
      "\n",
      "Total Count: 52\n",
      "Attributable Count: 26 (50.00%)\n",
      "Not Attributable Count: 26 (50.00%)\n",
      "Attributable / Not Attributable Ratio: 1.00\n",
      "\n",
      "Total Count: 188\n",
      "Attributable Count: 94 (50.00%)\n",
      "Not Attributable Count: 94 (50.00%)\n",
      "Attributable / Not Attributable Ratio: 1.00\n",
      "\n",
      "Total Count: 44\n",
      "Attributable Count: 22 (50.00%)\n",
      "Not Attributable Count: 22 (50.00%)\n",
      "Attributable / Not Attributable Ratio: 1.00\n",
      "\n"
     ]
    }
   ],
   "source": [
    "import json\n",
    "import random\n",
    "random.seed(42)\n",
    "from math import ceil\n",
    "\n",
    "merged_test = [json.loads(l) for l in open(\"/ML-A100/home/xiangyue/lyf/AttributionBench/data/hf_data/test_all_subset_balanced.jsonl\")]\n",
    "\n",
    "def balance_data_merged_test(data_list, src_dataset=\"any\", ratio=0):\n",
    "    if src_dataset != \"any\":\n",
    "        data_list = [item for item in data_list if item[\"src_dataset\"] == src_dataset]\n",
    "\n",
    "    # 分离 \"attributable\" 和 \"not attributable\" 数据\n",
    "    attributable_data = [item for item in data_list if item['attribution_label'] == 'attributable']\n",
    "    not_attributable_data = [item for item in data_list if item['attribution_label'] == 'not attributable']\n",
    "    \n",
    "    # 计算两类数据的数量\n",
    "    min_count = round(int(min(len(attributable_data), len(not_attributable_data)))*ratio + 0.1)  # for being total 500\n",
    "    \n",
    "    # 随机采样，使得两类数据的数量相等\n",
    "    balanced_data = random.sample(attributable_data, min_count) + random.sample(not_attributable_data, min_count)\n",
    "    \n",
    "    return balanced_data\n",
    "sample_num = 500\n",
    "ratio = sample_num / len(merged_test)\n",
    "attributedqa_test_sampled = balance_data_merged_test(merged_test, src_dataset=\"AttributedQA\", ratio=ratio)\n",
    "hagrid_test_sampled = balance_data_merged_test(merged_test, src_dataset=\"HAGRID\", ratio=ratio)\n",
    "expertqa_test_sampled = balance_data_merged_test(merged_test, src_dataset=\"ExpertQA\", ratio=ratio)\n",
    "stanford_test_sampled = balance_data_merged_test(merged_test, src_dataset=\"Stanford-GenSearch\", ratio=ratio)\n",
    "merged_test_sampled = attributedqa_test_sampled + hagrid_test_sampled + expertqa_test_sampled + stanford_test_sampled\n",
    "display_ratio(merged_test_sampled)\n",
    "display_ratio(attributedqa_test_sampled)\n",
    "display_ratio(hagrid_test_sampled)\n",
    "display_ratio(expertqa_test_sampled)\n",
    "display_ratio(stanford_test_sampled)\n",
    "with open(\"../hf_data/test_all_subset_balanced_sampled500.jsonl\", \"w\") as f:\n",
    "    for item in merged_test_sampled:\n",
    "        f.write(json.dumps(item) + \"\\n\")"
   ]
  },
  {
   "cell_type": "code",
   "execution_count": 13,
   "metadata": {},
   "outputs": [
    {
     "name": "stdout",
     "output_type": "stream",
     "text": [
      "Total Count: 500\n",
      "Attributable Count: 250 (50.00%)\n",
      "Not Attributable Count: 250 (50.00%)\n",
      "Attributable / Not Attributable Ratio: 1.00\n",
      "\n"
     ]
    }
   ],
   "source": []
  },
  {
   "cell_type": "code",
   "execution_count": null,
   "metadata": {},
   "outputs": [],
   "source": []
  }
 ],
 "metadata": {
  "kernelspec": {
   "display_name": "base",
   "language": "python",
   "name": "python3"
  },
  "language_info": {
   "codemirror_mode": {
    "name": "ipython",
    "version": 3
   },
   "file_extension": ".py",
   "mimetype": "text/x-python",
   "name": "python",
   "nbconvert_exporter": "python",
   "pygments_lexer": "ipython3",
   "version": "3.10.9"
  },
  "orig_nbformat": 4
 },
 "nbformat": 4,
 "nbformat_minor": 2
}
